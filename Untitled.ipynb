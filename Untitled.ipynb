{
 "cells": [
  {
   "cell_type": "code",
   "execution_count": null,
   "id": "cee27136-856e-4293-b34f-6d82b004b9f1",
   "metadata": {},
   "outputs": [],
   "source": [
    "import pandas as pd\n",
    "import numpy as np\n",
    "from sklearn.model_selection import train_test_split, GridSearchCV\n",
    "from sklearn.ensemble import RandomForestClassifier\n",
    "from sklearn.metrics import accuracy_score, classification_report, confusion_matrix\n",
    "from sklearn.preprocessing import StandardScaler"
   ]
  },
  {
   "cell_type": "code",
   "execution_count": null,
   "id": "038a5882-0004-4e00-bee4-b595931b5348",
   "metadata": {},
   "outputs": [],
   "source": [
    "# بارگذاری دادهها\n",
    "df = pd.read_csv('titanic.csv')"
   ]
  },
  {
   "cell_type": "code",
   "execution_count": null,
   "id": "d9f3ec0c-e42d-4a72-9994-a60d6f40d0db",
   "metadata": {},
   "outputs": [],
   "source": [
    "# حذف ستونهای غیرضروری\n",
    "df.drop(['PassengerId', 'Ticket', 'Cabin'], axis=1, inplace=True)"
   ]
  },
  {
   "cell_type": "code",
   "execution_count": null,
   "id": "c6ded37a-407d-4c1c-abdb-8c3779fc8765",
   "metadata": {},
   "outputs": [],
   "source": [
    "# استخراج عنوان (Title) از نام\n",
    "df['Title'] = df['Name'].str.extract(r' ([A-Za-z]+)\\.', expand=False)\n",
    "df['Title'] = df['Title'].replace(['Lady', 'Countess', 'Dr', 'Major', 'Rev', 'Col', 'Sir', 'Jonkheer', 'Dona'], 'Rare')\n",
    "df['Title'] = df['Title'].replace('Mlle', 'Miss')\n",
    "df['Title'] = df['Title'].replace('Ms', 'Miss')\n",
    "df['Title'] = df['Title'].replace('Mme', 'Mrs')\n",
    "df.drop('Name', axis=1, inplace=True)"
   ]
  },
  {
   "cell_type": "code",
   "execution_count": null,
   "id": "9fd32058-3588-4876-b3b4-7aefc1e572b8",
   "metadata": {},
   "outputs": [],
   "source": [
    "# ساخت ویژگیهای جدید\n",
    "df['FamilySize'] = df['SibSp'] + df['Parch'] + 1\n",
    "df['IsAlone'] = 0\n",
    "df.loc[df['FamilySize'] == 1, 'IsAlone'] = 1"
   ]
  },
  {
   "cell_type": "code",
   "execution_count": null,
   "id": "c6e72ab6-f0f3-4737-8b7d-97fbd4637e87",
   "metadata": {},
   "outputs": [],
   "source": [
    "# مدیریت مقادیر گمشده\n",
    "#اگر به خطا برخوردید کتابخانه  را آپدیت کنید pandas\n",
    "df.fillna({'Age': df['Age'].median()}, inplace=True)\n",
    "df.fillna({'Embarked': df['Embarked'].mode()[0]}, inplace=True)"
   ]
  },
  {
   "cell_type": "code",
   "execution_count": null,
   "id": "506e5d6b-fc76-4037-bc49-0ed76dfe9a0d",
   "metadata": {},
   "outputs": [],
   "source": [
    "# تبدیل دادههای کیفی به عددی\n",
    "df['Sex'] = df['Sex'].map({'male': 0, 'female': 1})\n",
    "df = pd.get_dummies(df, columns=['Title', 'Embarked'], drop_first=True)"
   ]
  },
  {
   "cell_type": "code",
   "execution_count": null,
   "id": "432c8934-3ed6-40a1-8240-d0179ac76deb",
   "metadata": {},
   "outputs": [],
   "source": [
    "X = df.drop('Survived', axis=1)\n",
    "y = df['Survived']\n",
    "\n",
    "# تقسیم داده (۸۰% آموزش، ۲۰% آزمون)\n",
    "X_train, X_test, y_train, y_test = train_test_split(\n",
    "    X, y, \n",
    "    test_size=0.2, \n",
    "    random_state=42\n",
    ")"
   ]
  },
  {
   "cell_type": "code",
   "execution_count": null,
   "id": "cbf1cb57-c388-46ac-917a-5d6a72bcb0fe",
   "metadata": {},
   "outputs": [],
   "source": [
    "# مقیاسسازی دادهها\n",
    "scaler = StandardScaler()\n",
    "X_train_scaled = scaler.fit_transform(X_train)\n",
    "X_test_scaled = scaler.transform(X_test)"
   ]
  },
  {
   "cell_type": "code",
   "execution_count": null,
   "id": "98d83c5e-4e0e-4a15-9e70-2ec4fc989203",
   "metadata": {},
   "outputs": [],
   "source": [
    "# تعریف شبکه پارامترها\n",
    "param_grid = {\n",
    "    'n_estimators': [200, 300, 400],\n",
    "    'max_depth': [10, 15, 20, None],\n",
    "    'min_samples_split': [2, 5, 10],\n",
    "    'min_samples_leaf': [1, 2, 4],\n",
    "    'criterion': ['gini', 'entropy'],\n",
    "    'max_features': ['sqrt', 'log2']\n",
    "}"
   ]
  },
  {
   "cell_type": "code",
   "execution_count": null,
   "id": "90bc39f1-cedb-4b95-bb4c-181bc09586d1",
   "metadata": {},
   "outputs": [],
   "source": [
    "# ایجاد مدل و GridSearchCV\n",
    "model = RandomForestClassifier(class_weight='balanced', random_state=42)\n",
    "grid_search = GridSearchCV(\n",
    "    estimator=model,\n",
    "    param_grid=param_grid,\n",
    "    cv=10,\n",
    "    scoring='accuracy',\n",
    "    n_jobs=-1\n",
    ")\n",
    "# آموزش GridSearchCV\n",
    "grid_search.fit(X_train_scaled, y_train)"
   ]
  },
  {
   "cell_type": "code",
   "execution_count": null,
   "id": "672069fe-ccbf-437c-84a8-34a25b38aa1e",
   "metadata": {},
   "outputs": [],
   "source": [
    "# بهترین پارامترها\n",
    "best_params = grid_search.best_params_\n",
    "print(\"Best Parameters:\", best_params)"
   ]
  },
  {
   "cell_type": "code",
   "execution_count": null,
   "id": "62682187-aee8-43d7-8860-48b13a772779",
   "metadata": {},
   "outputs": [],
   "source": [
    "\n",
    "# ایجاد مدل با بهترین پارامترها\n",
    "final_model = RandomForestClassifier(\n",
    "    n_estimators=best_params['n_estimators'],\n",
    "    max_depth=best_params['max_depth'],\n",
    "    min_samples_split=best_params['min_samples_split'],\n",
    "    min_samples_leaf=best_params['min_samples_leaf'],\n",
    "    criterion=best_params['criterion'],\n",
    "    max_features=best_params['max_features'],\n",
    "    class_weight='balanced',\n",
    "    random_state=42\n",
    ")\n",
    "\n",
    "final_model.fit(X_train_scaled, y_train)"
   ]
  },
  {
   "cell_type": "code",
   "execution_count": null,
   "id": "5731d7a1-a4e7-4fbf-b1d1-ca53fa9dae16",
   "metadata": {},
   "outputs": [],
   "source": [
    "# پیشبینی و محاسبه دقت\n",
    "y_pred = final_model.predict(X_test_scaled)\n",
    "print(\"\\nAccuracy:\", accuracy_score(y_test, y_pred))\n",
    "print(\"\\nClassification Report:\\n\", classification_report(y_test, y_pred))"
   ]
  },
  {
   "cell_type": "code",
   "execution_count": null,
   "id": "5e847404-b887-44f8-b427-b382bde95419",
   "metadata": {},
   "outputs": [],
   "source": [
    "# ماتریس \n",
    "cm = confusion_matrix(y_test, y_pred)\n",
    "print(\"\\nConfusion Matrix:\\n\", cm)"
   ]
  },
  {
   "cell_type": "code",
   "execution_count": null,
   "id": "aaae26da-695c-473f-bc06-5008faa88f14",
   "metadata": {},
   "outputs": [],
   "source": [
    "# اهمیت ویژگیها\n",
    "feature_importance = pd.Series(final_model.feature_importances_, index=X.columns)\n",
    "print(\"\\nFeature Importance:\\n\", feature_importance.sort_values(ascending=False))"
   ]
  }
 ],
 "metadata": {
  "kernelspec": {
   "display_name": "Python [conda env:base] *",
   "language": "python",
   "name": "conda-base-py"
  },
  "language_info": {
   "codemirror_mode": {
    "name": "ipython",
    "version": 3
   },
   "file_extension": ".py",
   "mimetype": "text/x-python",
   "name": "python",
   "nbconvert_exporter": "python",
   "pygments_lexer": "ipython3",
   "version": "3.12.7"
  }
 },
 "nbformat": 4,
 "nbformat_minor": 5
}
